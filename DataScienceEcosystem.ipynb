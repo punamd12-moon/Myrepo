{
 "cells": [
  {
   "cell_type": "markdown",
   "id": "59e33a65-ef20-483d-a9c6-68ab76d8c91c",
   "metadata": {},
   "source": [
    "#Data Science Tools and Ecosystem"
   ]
  },
  {
   "cell_type": "markdown",
   "id": "6b549f57-f230-4507-bc64-45ddc900f1e2",
   "metadata": {},
   "source": [
    "In this notebook, Data Science Tools and Ecosystem are summarized."
   ]
  },
  {
   "cell_type": "markdown",
   "id": "92aa3c20-fe84-4454-9530-d04dc2eb650b",
   "metadata": {},
   "source": [
    "Objectives: \n",
    "Some popular languages\n",
    "Commonly used libraries\n",
    "Data Science Tools"
   ]
  },
  {
   "cell_type": "markdown",
   "id": "2ab7e43a-34a4-4744-b0f5-fad1bf2d1292",
   "metadata": {},
   "source": [
    "Some of the popular languages that Data Scientists use are:"
   ]
  },
  {
   "cell_type": "markdown",
   "id": "aa2a72ee-9e63-4723-a351-375a35b6bb31",
   "metadata": {},
   "source": [
    "1. R\n",
    "2. Python\n",
    "3. SQL"
   ]
  },
  {
   "cell_type": "markdown",
   "id": "520a89fe-a399-42e2-8c5a-859cf8d44f2c",
   "metadata": {},
   "source": [
    "Some of the commonly used libraries used by Data Scientists include:\n",
    "1. Pandas\n",
    "2. Matplotlib\n",
    "3. Numpy"
   ]
  },
  {
   "cell_type": "markdown",
   "id": "5f497bdd-3b67-4d34-969e-1eded959fbff",
   "metadata": {},
   "source": [
    "|Data Science Tools |\n",
    "|:.................:|\n",
    "|Jupyter Notebook  |\n",
    "|RStudio  |\n",
    "|Eclipse  |"
   ]
  },
  {
   "cell_type": "markdown",
   "id": "a17e56af-8719-427d-8e96-66f8f5878698",
   "metadata": {},
   "source": [
    "|Data Science Tools|\n",
    "|Jupyter Notebook|\n",
    "|Rstudio|\n",
    "|Eclipse|"
   ]
  },
  {
   "cell_type": "markdown",
   "id": "76ec8d89-df1d-4423-9747-db9c4389442f",
   "metadata": {},
   "source": [
    "| Data Science Tools|\n",
    "| --- |\n",
    "| Jupyter Notebooks |\n",
    "| Rstudio |\n",
    "| Eclipse |"
   ]
  },
  {
   "cell_type": "markdown",
   "id": "ea8b636a-2857-4dcd-9709-50ef086dc3aa",
   "metadata": {},
   "source": [
    "###Below are a few examples of evaluating arithmetic expressions in Python"
   ]
  },
  {
   "cell_type": "markdown",
   "id": "e6a4bc4b-5c40-41a6-9d78-a82f78b7fffb",
   "metadata": {},
   "source": [
    "### Below are a few examples of evaluating arithmetic expressions in Python"
   ]
  },
  {
   "cell_type": "code",
   "execution_count": 1,
   "id": "baa2e215-9f90-48c9-80eb-8f35c52abb7d",
   "metadata": {},
   "outputs": [
    {
     "data": {
      "text/plain": [
       "17"
      ]
     },
     "execution_count": 1,
     "metadata": {},
     "output_type": "execute_result"
    }
   ],
   "source": [
    "(3*4)+5"
   ]
  },
  {
   "cell_type": "code",
   "execution_count": 2,
   "id": "b5ec88d9-2988-4bb4-ba31-c906eb843d5e",
   "metadata": {},
   "outputs": [
    {
     "data": {
      "text/plain": [
       "17"
      ]
     },
     "execution_count": 2,
     "metadata": {},
     "output_type": "execute_result"
    }
   ],
   "source": [
    "#This a simple arithmetic expression to mutiply then add integers\n",
    "(3*4)+5"
   ]
  },
  {
   "cell_type": "code",
   "execution_count": 3,
   "id": "f14e6fe3-317d-43f7-9c7f-79ad384cb54d",
   "metadata": {},
   "outputs": [
    {
     "data": {
      "text/plain": [
       "3.3333333333333335"
      ]
     },
     "execution_count": 3,
     "metadata": {},
     "output_type": "execute_result"
    }
   ],
   "source": [
    "#This will convert 200 minutes to hours by diving by 60\n",
    "200/60"
   ]
  },
  {
   "cell_type": "markdown",
   "id": "45db010e-493d-4959-92f8-932aa3615b30",
   "metadata": {},
   "source": [
    "Objectives:"
   ]
  },
  {
   "cell_type": "markdown",
   "id": "a6284793-58b3-49a3-999b-d112bebc6ad3",
   "metadata": {},
   "source": [
    "## Author\n",
    "Punam Divadkar"
   ]
  },
  {
   "cell_type": "code",
   "execution_count": null,
   "id": "8a211751-e9a7-4cab-a5a3-a0e37425a9ef",
   "metadata": {},
   "outputs": [],
   "source": []
  }
 ],
 "metadata": {
  "kernelspec": {
   "display_name": "Python 3 (ipykernel)",
   "language": "python",
   "name": "python3"
  },
  "language_info": {
   "codemirror_mode": {
    "name": "ipython",
    "version": 3
   },
   "file_extension": ".py",
   "mimetype": "text/x-python",
   "name": "python",
   "nbconvert_exporter": "python",
   "pygments_lexer": "ipython3",
   "version": "3.12.8"
  }
 },
 "nbformat": 4,
 "nbformat_minor": 5
}
